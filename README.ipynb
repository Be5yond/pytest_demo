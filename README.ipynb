{
 "cells": [
  {
   "cell_type": "markdown",
   "metadata": {},
   "source": [
    "# HTTP API自动化pytest HTTP API自动化测试框架\n",
    "## info\n",
    "- mongoDB\n",
    "- pytest\n",
    "- jenkins\n",
    "- allure"
   ]
  },
  {
   "cell_type": "markdown",
   "metadata": {},
   "source": [
    "## 功能模块\n",
    "### 1.数据驱动\n",
    "- data 输入参数, scm 返回校验模板, desc 测试数据描述\n",
    "- 1.1代码中写入测试数据"
   ]
  },
  {
   "cell_type": "code",
   "execution_count": null,
   "metadata": {},
   "outputs": [],
   "source": [
    "@pytest.mark.parametrize('data,scm', [\n",
    "        ({}, {'data': '{% str %}'}),\n",
    "        ({'username': '{{ user }}', 'password': 'wrong'}, {'data': '{% str %}'}),\n",
    "        ({'username': 'wrong', 'password': '{{ pwd }}'}, {'data': '{% str %}'})\n",
    "    ])"
   ]
  },
  {
   "cell_type": "markdown",
   "metadata": {},
   "source": [
    "- 1.2测试类名+方法名 映射为mongodb中一个集合， 存储数据为data 和scm字段\n",
    "  适合嵌套结构多层的json字段\n",
    "- 1.3测试类名+方法名 映射为excel中一个sheet， 存储数据每列对应json中一个key\n",
    "  适合结构简单的请求数据"
   ]
  },
  {
   "cell_type": "markdown",
   "metadata": {},
   "source": [
    "## 2.数据动态渲染\n",
    "#### 支持数据动态替换，\n",
    "#### 如‘{{ DevToken }}’，替换变量，变量池为Req中的cache\n",
    "#### {% random.randint(1, 10) %}，替换为函数\n",
    "#### 默认支持python库中 fake项目的函数，可在comm.tools中自定义函数\n",
    "#### 例如测试数据中："
   ]
  },
  {
   "cell_type": "code",
   "execution_count": null,
   "metadata": {},
   "outputs": [],
   "source": [
    "{ 'key': {\n",
    "    'company': '{% fake.company() %}',\n",
    "    'phone': '{% fake.phone_number() %}',\n",
    "    'str': '{% fake.pystr(max_chars=10) %}'\n",
    "   },\n",
    "   'tu': [\n",
    "       '{{ val }}', \n",
    "       {'newkey': '{{ val }}'}\n",
    "   ]\n",
    "}"
   ]
  },
  {
   "cell_type": "markdown",
   "metadata": {},
   "source": [
    "#### 运行时会动态替换成"
   ]
  },
  {
   "cell_type": "code",
   "execution_count": null,
   "metadata": {},
   "outputs": [],
   "source": [
    "{ 'key': {\n",
    "    'company': '凌颖信息传媒有限公司', \n",
    "    'phone': '13481047148', \n",
    "    'str': 'RBDjMHbZfm'\n",
    "   },\n",
    "  'tu': [\n",
    "      456, \n",
    "      {'newkey': 456}\n",
    "  ]\n",
    "}\n"
   ]
  },
  {
   "cell_type": "markdown",
   "metadata": {},
   "source": [
    "## 3.数据校验\n",
    "#### 与数据一样，校验函数也是动态的，测试数据中配置数据校验模板，可以减少assert语句，代码更加简洁\n",
    "#### 规则与数据替换大致一致 例如："
   ]
  },
  {
   "cell_type": "code",
   "execution_count": null,
   "metadata": {},
   "outputs": [],
   "source": [
    "{\n",
    "    \"data\" : \"{% str %}\",        #校验返回的data是个字符串对象\n",
    "    \"traceID\" : \"{{ traceID }}\", #校验traceID相等\n",
    "    \"message\" : \"token错误\",      #校验返回的message\n",
    "    \"code\" : \"00120112001\",\n",
    "    \"success\" : false            #校验布尔值等于false\n",
    "}"
   ]
  },
  {
   "cell_type": "markdown",
   "metadata": {},
   "source": [
    "## 4.多环境配置\n",
    "#### 执行环境信息保存在config.ini文件中,运行的时候 --env=test 使用测试环境 --env=online执行线上环境"
   ]
  },
  {
   "cell_type": "code",
   "execution_count": null,
   "metadata": {},
   "outputs": [],
   "source": [
    "[env_test]\n",
    "host: http://192.168.95.27:9527\n",
    "username: testuser\n",
    "password: 111111\n",
    "[env_online]\n",
    "host: http://www.example.com\n",
    "username: testuser2\n",
    "password: 111111"
   ]
  },
  {
   "cell_type": "markdown",
   "metadata": {},
   "source": [
    "# 快速开始\n",
    "- clone本项目\n",
    "- Dependency  \n",
    "   + python3 Docker\n",
    "   + pip install -r requirements.txt\n",
    "- 运行\n",
    "   + docker run --name mongo -d -v /root/docker/mongo:/data/db -p 27017:27017 mongo\n",
    "   + pytest\n",
    "   + allure serve -p 8090"
   ]
  },
  {
   "cell_type": "markdown",
   "metadata": {},
   "source": [
    "# 集成jenkins\n",
    "todo"
   ]
  }
 ],
 "metadata": {
  "kernelspec": {
   "display_name": "Python 3",
   "language": "python",
   "name": "python3"
  },
  "language_info": {
   "codemirror_mode": {
    "name": "ipython",
    "version": 3
   },
   "file_extension": ".py",
   "mimetype": "text/x-python",
   "name": "python",
   "nbconvert_exporter": "python",
   "pygments_lexer": "ipython3",
   "version": "3.6.7"
  }
 },
 "nbformat": 4,
 "nbformat_minor": 4
}
